{
 "cells": [
  {
   "cell_type": "markdown",
   "metadata": {},
   "source": [
    "# DU Data Viz Project Proposal\n",
    "## Team Abigail and Brennan Club \"ABC\""
   ]
  },
  {
   "cell_type": "markdown",
   "metadata": {},
   "source": [
    "## Global \n",
    "\n",
    "We would like to take a closer look if there is any correlation between obesity rates and happiness levels on a global scale. "
   ]
  },
  {
   "cell_type": "markdown",
   "metadata": {},
   "source": [
    "## Team Members\n",
    "\n",
    " - Abigail Metzger metzgerabbbey@gmail.com \n",
    " - Brennan Stottlemyer brennan.stottlemyer@colorado.edu\n",
    " "
   ]
  },
  {
   "cell_type": "markdown",
   "metadata": {},
   "source": [
    "## Git Repo URL\n",
    "You can find our git repo [here](https://github.com/abigailmetzger/abigail_brennan_club.git)\n"
   ]
  },
  {
   "cell_type": "markdown",
   "metadata": {},
   "source": [
    "## Research Question(s)\n",
    "Is there a correlation between obesity and happiness? \n",
    "Like to article that served as inspiration for the project: [article](https://www.independent.co.uk/life-style/health-and-families/overweight-fat-obese-skinny-study-bmi-university-bristol-a8127381.html)"
   ]
  },
  {
   "cell_type": "markdown",
   "metadata": {},
   "source": [
    "## Data Set(s)\n",
    "\n",
    "{list your datasets, or describe them; \n",
    "\n",
    "where possible, give us links to the pages with the data in it}\n",
    "\n",
    "  - https://ourworldindata.org/obesity\n",
    "  - https://www.kaggle.com/unsdsn/world-happiness"
   ]
  },
  {
   "cell_type": "markdown",
   "metadata": {},
   "source": [
    "## Task Planning\n",
    "\n",
    "{try to sketch a plan of the separate pieces of work that need to be done;\n",
    "for example: \n",
    "\n",
    "or more \"universal\" tasks:\n",
    " - importing the data files\n",
    " - merges on country \n",
    " - identify relevant data to central question\n",
    " - plan out visualizations\n",
    " - analyze results\n",
    " - organize presentation\n",
    " - present "
   ]
  },
  {
   "cell_type": "code",
   "execution_count": null,
   "metadata": {},
   "outputs": [],
   "source": []
  }
 ],
 "metadata": {
  "kernelspec": {
   "display_name": "Python 3",
   "language": "python",
   "name": "python3"
  },
  "language_info": {
   "codemirror_mode": {
    "name": "ipython",
    "version": 3
   },
   "file_extension": ".py",
   "mimetype": "text/x-python",
   "name": "python",
   "nbconvert_exporter": "python",
   "pygments_lexer": "ipython3",
   "version": "3.7.1"
  }
 },
 "nbformat": 4,
 "nbformat_minor": 2
}
